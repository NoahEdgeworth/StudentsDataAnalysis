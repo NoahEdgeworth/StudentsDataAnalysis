{
 "cells": [
  {
   "cell_type": "code",
   "execution_count": 1,
   "id": "58ca27d8",
   "metadata": {
    "_cell_guid": "b1076dfc-b9ad-4769-8c92-a6c4dae69d19",
    "_uuid": "8f2839f25d086af736a60e9eeb907d3b93b6e0e5",
    "execution": {
     "iopub.execute_input": "2023-10-22T21:15:45.719096Z",
     "iopub.status.busy": "2023-10-22T21:15:45.718511Z",
     "iopub.status.idle": "2023-10-22T21:15:46.525232Z",
     "shell.execute_reply": "2023-10-22T21:15:46.523588Z"
    },
    "papermill": {
     "duration": 0.817642,
     "end_time": "2023-10-22T21:15:46.528456",
     "exception": false,
     "start_time": "2023-10-22T21:15:45.710814",
     "status": "completed"
    },
    "tags": []
   },
   "outputs": [
    {
     "name": "stdout",
     "output_type": "stream",
     "text": [
      "/kaggle/input/student-stress-factors-a-comprehensive-analysis/StressLevelDataset.csv\n"
     ]
    }
   ],
   "source": [
    "# This Python 3 environment comes with many helpful analytics libraries installed\n",
    "# It is defined by the kaggle/python Docker image: https://github.com/kaggle/docker-python\n",
    "# For example, here's several helpful packages to load\n",
    "\n",
    "import numpy as np # linear algebra\n",
    "import pandas as pd # data processing, CSV file I/O (e.g. pd.read_csv)\n",
    "\n",
    "# Input data files are available in the read-only \"../input/\" directory\n",
    "# For example, running this (by clicking run or pressing Shift+Enter) will list all files under the input directory\n",
    "\n",
    "import os\n",
    "for dirname, _, filenames in os.walk('/kaggle/input'):\n",
    "    for filename in filenames:\n",
    "        print(os.path.join(dirname, filename))\n",
    "\n",
    "# You can write up to 20GB to the current directory (/kaggle/working/) that gets preserved as output when you create a version using \"Save & Run All\" \n",
    "# You can also write temporary files to /kaggle/temp/, but they won't be saved outside of the current session"
   ]
  },
  {
   "cell_type": "code",
   "execution_count": 2,
   "id": "788a53cc",
   "metadata": {
    "execution": {
     "iopub.execute_input": "2023-10-22T21:15:46.541982Z",
     "iopub.status.busy": "2023-10-22T21:15:46.541456Z",
     "iopub.status.idle": "2023-10-22T21:15:46.594770Z",
     "shell.execute_reply": "2023-10-22T21:15:46.593553Z"
    },
    "papermill": {
     "duration": 0.062831,
     "end_time": "2023-10-22T21:15:46.597172",
     "exception": false,
     "start_time": "2023-10-22T21:15:46.534341",
     "status": "completed"
    },
    "tags": []
   },
   "outputs": [
    {
     "data": {
      "text/html": [
       "<div>\n",
       "<style scoped>\n",
       "    .dataframe tbody tr th:only-of-type {\n",
       "        vertical-align: middle;\n",
       "    }\n",
       "\n",
       "    .dataframe tbody tr th {\n",
       "        vertical-align: top;\n",
       "    }\n",
       "\n",
       "    .dataframe thead th {\n",
       "        text-align: right;\n",
       "    }\n",
       "</style>\n",
       "<table border=\"1\" class=\"dataframe\">\n",
       "  <thead>\n",
       "    <tr style=\"text-align: right;\">\n",
       "      <th></th>\n",
       "      <th>anxiety_level</th>\n",
       "      <th>self_esteem</th>\n",
       "      <th>mental_health_history</th>\n",
       "      <th>depression</th>\n",
       "      <th>headache</th>\n",
       "      <th>blood_pressure</th>\n",
       "      <th>sleep_quality</th>\n",
       "      <th>breathing_problem</th>\n",
       "      <th>noise_level</th>\n",
       "      <th>living_conditions</th>\n",
       "      <th>...</th>\n",
       "      <th>basic_needs</th>\n",
       "      <th>academic_performance</th>\n",
       "      <th>study_load</th>\n",
       "      <th>teacher_student_relationship</th>\n",
       "      <th>future_career_concerns</th>\n",
       "      <th>social_support</th>\n",
       "      <th>peer_pressure</th>\n",
       "      <th>extracurricular_activities</th>\n",
       "      <th>bullying</th>\n",
       "      <th>stress_level</th>\n",
       "    </tr>\n",
       "  </thead>\n",
       "  <tbody>\n",
       "    <tr>\n",
       "      <th>0</th>\n",
       "      <td>14</td>\n",
       "      <td>20</td>\n",
       "      <td>0</td>\n",
       "      <td>11</td>\n",
       "      <td>2</td>\n",
       "      <td>1</td>\n",
       "      <td>2</td>\n",
       "      <td>4</td>\n",
       "      <td>2</td>\n",
       "      <td>3</td>\n",
       "      <td>...</td>\n",
       "      <td>2</td>\n",
       "      <td>3</td>\n",
       "      <td>2</td>\n",
       "      <td>3</td>\n",
       "      <td>3</td>\n",
       "      <td>2</td>\n",
       "      <td>3</td>\n",
       "      <td>3</td>\n",
       "      <td>2</td>\n",
       "      <td>1</td>\n",
       "    </tr>\n",
       "    <tr>\n",
       "      <th>1</th>\n",
       "      <td>15</td>\n",
       "      <td>8</td>\n",
       "      <td>1</td>\n",
       "      <td>15</td>\n",
       "      <td>5</td>\n",
       "      <td>3</td>\n",
       "      <td>1</td>\n",
       "      <td>4</td>\n",
       "      <td>3</td>\n",
       "      <td>1</td>\n",
       "      <td>...</td>\n",
       "      <td>2</td>\n",
       "      <td>1</td>\n",
       "      <td>4</td>\n",
       "      <td>1</td>\n",
       "      <td>5</td>\n",
       "      <td>1</td>\n",
       "      <td>4</td>\n",
       "      <td>5</td>\n",
       "      <td>5</td>\n",
       "      <td>2</td>\n",
       "    </tr>\n",
       "    <tr>\n",
       "      <th>2</th>\n",
       "      <td>12</td>\n",
       "      <td>18</td>\n",
       "      <td>1</td>\n",
       "      <td>14</td>\n",
       "      <td>2</td>\n",
       "      <td>1</td>\n",
       "      <td>2</td>\n",
       "      <td>2</td>\n",
       "      <td>2</td>\n",
       "      <td>2</td>\n",
       "      <td>...</td>\n",
       "      <td>2</td>\n",
       "      <td>2</td>\n",
       "      <td>3</td>\n",
       "      <td>3</td>\n",
       "      <td>2</td>\n",
       "      <td>2</td>\n",
       "      <td>3</td>\n",
       "      <td>2</td>\n",
       "      <td>2</td>\n",
       "      <td>1</td>\n",
       "    </tr>\n",
       "    <tr>\n",
       "      <th>3</th>\n",
       "      <td>16</td>\n",
       "      <td>12</td>\n",
       "      <td>1</td>\n",
       "      <td>15</td>\n",
       "      <td>4</td>\n",
       "      <td>3</td>\n",
       "      <td>1</td>\n",
       "      <td>3</td>\n",
       "      <td>4</td>\n",
       "      <td>2</td>\n",
       "      <td>...</td>\n",
       "      <td>2</td>\n",
       "      <td>2</td>\n",
       "      <td>4</td>\n",
       "      <td>1</td>\n",
       "      <td>4</td>\n",
       "      <td>1</td>\n",
       "      <td>4</td>\n",
       "      <td>4</td>\n",
       "      <td>5</td>\n",
       "      <td>2</td>\n",
       "    </tr>\n",
       "    <tr>\n",
       "      <th>4</th>\n",
       "      <td>16</td>\n",
       "      <td>28</td>\n",
       "      <td>0</td>\n",
       "      <td>7</td>\n",
       "      <td>2</td>\n",
       "      <td>3</td>\n",
       "      <td>5</td>\n",
       "      <td>1</td>\n",
       "      <td>3</td>\n",
       "      <td>2</td>\n",
       "      <td>...</td>\n",
       "      <td>3</td>\n",
       "      <td>4</td>\n",
       "      <td>3</td>\n",
       "      <td>1</td>\n",
       "      <td>2</td>\n",
       "      <td>1</td>\n",
       "      <td>5</td>\n",
       "      <td>0</td>\n",
       "      <td>5</td>\n",
       "      <td>1</td>\n",
       "    </tr>\n",
       "    <tr>\n",
       "      <th>...</th>\n",
       "      <td>...</td>\n",
       "      <td>...</td>\n",
       "      <td>...</td>\n",
       "      <td>...</td>\n",
       "      <td>...</td>\n",
       "      <td>...</td>\n",
       "      <td>...</td>\n",
       "      <td>...</td>\n",
       "      <td>...</td>\n",
       "      <td>...</td>\n",
       "      <td>...</td>\n",
       "      <td>...</td>\n",
       "      <td>...</td>\n",
       "      <td>...</td>\n",
       "      <td>...</td>\n",
       "      <td>...</td>\n",
       "      <td>...</td>\n",
       "      <td>...</td>\n",
       "      <td>...</td>\n",
       "      <td>...</td>\n",
       "      <td>...</td>\n",
       "    </tr>\n",
       "    <tr>\n",
       "      <th>1095</th>\n",
       "      <td>11</td>\n",
       "      <td>17</td>\n",
       "      <td>0</td>\n",
       "      <td>14</td>\n",
       "      <td>3</td>\n",
       "      <td>1</td>\n",
       "      <td>3</td>\n",
       "      <td>2</td>\n",
       "      <td>2</td>\n",
       "      <td>2</td>\n",
       "      <td>...</td>\n",
       "      <td>3</td>\n",
       "      <td>2</td>\n",
       "      <td>2</td>\n",
       "      <td>2</td>\n",
       "      <td>3</td>\n",
       "      <td>3</td>\n",
       "      <td>2</td>\n",
       "      <td>3</td>\n",
       "      <td>3</td>\n",
       "      <td>1</td>\n",
       "    </tr>\n",
       "    <tr>\n",
       "      <th>1096</th>\n",
       "      <td>9</td>\n",
       "      <td>12</td>\n",
       "      <td>0</td>\n",
       "      <td>8</td>\n",
       "      <td>0</td>\n",
       "      <td>3</td>\n",
       "      <td>0</td>\n",
       "      <td>0</td>\n",
       "      <td>0</td>\n",
       "      <td>1</td>\n",
       "      <td>...</td>\n",
       "      <td>4</td>\n",
       "      <td>0</td>\n",
       "      <td>1</td>\n",
       "      <td>1</td>\n",
       "      <td>1</td>\n",
       "      <td>1</td>\n",
       "      <td>3</td>\n",
       "      <td>4</td>\n",
       "      <td>3</td>\n",
       "      <td>2</td>\n",
       "    </tr>\n",
       "    <tr>\n",
       "      <th>1097</th>\n",
       "      <td>4</td>\n",
       "      <td>26</td>\n",
       "      <td>0</td>\n",
       "      <td>3</td>\n",
       "      <td>1</td>\n",
       "      <td>2</td>\n",
       "      <td>5</td>\n",
       "      <td>2</td>\n",
       "      <td>2</td>\n",
       "      <td>3</td>\n",
       "      <td>...</td>\n",
       "      <td>4</td>\n",
       "      <td>5</td>\n",
       "      <td>1</td>\n",
       "      <td>4</td>\n",
       "      <td>1</td>\n",
       "      <td>3</td>\n",
       "      <td>1</td>\n",
       "      <td>2</td>\n",
       "      <td>1</td>\n",
       "      <td>0</td>\n",
       "    </tr>\n",
       "    <tr>\n",
       "      <th>1098</th>\n",
       "      <td>21</td>\n",
       "      <td>0</td>\n",
       "      <td>1</td>\n",
       "      <td>19</td>\n",
       "      <td>5</td>\n",
       "      <td>3</td>\n",
       "      <td>1</td>\n",
       "      <td>4</td>\n",
       "      <td>3</td>\n",
       "      <td>1</td>\n",
       "      <td>...</td>\n",
       "      <td>1</td>\n",
       "      <td>2</td>\n",
       "      <td>5</td>\n",
       "      <td>1</td>\n",
       "      <td>4</td>\n",
       "      <td>1</td>\n",
       "      <td>4</td>\n",
       "      <td>4</td>\n",
       "      <td>4</td>\n",
       "      <td>2</td>\n",
       "    </tr>\n",
       "    <tr>\n",
       "      <th>1099</th>\n",
       "      <td>18</td>\n",
       "      <td>6</td>\n",
       "      <td>1</td>\n",
       "      <td>15</td>\n",
       "      <td>3</td>\n",
       "      <td>3</td>\n",
       "      <td>0</td>\n",
       "      <td>3</td>\n",
       "      <td>3</td>\n",
       "      <td>0</td>\n",
       "      <td>...</td>\n",
       "      <td>3</td>\n",
       "      <td>3</td>\n",
       "      <td>4</td>\n",
       "      <td>3</td>\n",
       "      <td>3</td>\n",
       "      <td>1</td>\n",
       "      <td>5</td>\n",
       "      <td>1</td>\n",
       "      <td>4</td>\n",
       "      <td>2</td>\n",
       "    </tr>\n",
       "  </tbody>\n",
       "</table>\n",
       "<p>1100 rows × 21 columns</p>\n",
       "</div>"
      ],
      "text/plain": [
       "      anxiety_level  self_esteem  mental_health_history  depression  headache  \\\n",
       "0                14           20                      0          11         2   \n",
       "1                15            8                      1          15         5   \n",
       "2                12           18                      1          14         2   \n",
       "3                16           12                      1          15         4   \n",
       "4                16           28                      0           7         2   \n",
       "...             ...          ...                    ...         ...       ...   \n",
       "1095             11           17                      0          14         3   \n",
       "1096              9           12                      0           8         0   \n",
       "1097              4           26                      0           3         1   \n",
       "1098             21            0                      1          19         5   \n",
       "1099             18            6                      1          15         3   \n",
       "\n",
       "      blood_pressure  sleep_quality  breathing_problem  noise_level  \\\n",
       "0                  1              2                  4            2   \n",
       "1                  3              1                  4            3   \n",
       "2                  1              2                  2            2   \n",
       "3                  3              1                  3            4   \n",
       "4                  3              5                  1            3   \n",
       "...              ...            ...                ...          ...   \n",
       "1095               1              3                  2            2   \n",
       "1096               3              0                  0            0   \n",
       "1097               2              5                  2            2   \n",
       "1098               3              1                  4            3   \n",
       "1099               3              0                  3            3   \n",
       "\n",
       "      living_conditions  ...  basic_needs  academic_performance  study_load  \\\n",
       "0                     3  ...            2                     3           2   \n",
       "1                     1  ...            2                     1           4   \n",
       "2                     2  ...            2                     2           3   \n",
       "3                     2  ...            2                     2           4   \n",
       "4                     2  ...            3                     4           3   \n",
       "...                 ...  ...          ...                   ...         ...   \n",
       "1095                  2  ...            3                     2           2   \n",
       "1096                  1  ...            4                     0           1   \n",
       "1097                  3  ...            4                     5           1   \n",
       "1098                  1  ...            1                     2           5   \n",
       "1099                  0  ...            3                     3           4   \n",
       "\n",
       "      teacher_student_relationship  future_career_concerns  social_support  \\\n",
       "0                                3                       3               2   \n",
       "1                                1                       5               1   \n",
       "2                                3                       2               2   \n",
       "3                                1                       4               1   \n",
       "4                                1                       2               1   \n",
       "...                            ...                     ...             ...   \n",
       "1095                             2                       3               3   \n",
       "1096                             1                       1               1   \n",
       "1097                             4                       1               3   \n",
       "1098                             1                       4               1   \n",
       "1099                             3                       3               1   \n",
       "\n",
       "      peer_pressure  extracurricular_activities  bullying  stress_level  \n",
       "0                 3                           3         2             1  \n",
       "1                 4                           5         5             2  \n",
       "2                 3                           2         2             1  \n",
       "3                 4                           4         5             2  \n",
       "4                 5                           0         5             1  \n",
       "...             ...                         ...       ...           ...  \n",
       "1095              2                           3         3             1  \n",
       "1096              3                           4         3             2  \n",
       "1097              1                           2         1             0  \n",
       "1098              4                           4         4             2  \n",
       "1099              5                           1         4             2  \n",
       "\n",
       "[1100 rows x 21 columns]"
      ]
     },
     "execution_count": 2,
     "metadata": {},
     "output_type": "execute_result"
    }
   ],
   "source": [
    "# How many students are in the dataset? - 1100 students\n",
    "file = pd.read_csv('/kaggle/input/student-stress-factors-a-comprehensive-analysis/StressLevelDataset.csv')\n",
    "file = pd.DataFrame(file)\n",
    "file"
   ]
  },
  {
   "cell_type": "code",
   "execution_count": 3,
   "id": "e3094084",
   "metadata": {
    "execution": {
     "iopub.execute_input": "2023-10-22T21:15:46.611324Z",
     "iopub.status.busy": "2023-10-22T21:15:46.610739Z",
     "iopub.status.idle": "2023-10-22T21:15:46.619496Z",
     "shell.execute_reply": "2023-10-22T21:15:46.618313Z"
    },
    "papermill": {
     "duration": 0.018637,
     "end_time": "2023-10-22T21:15:46.621886",
     "exception": false,
     "start_time": "2023-10-22T21:15:46.603249",
     "status": "completed"
    },
    "tags": []
   },
   "outputs": [
    {
     "data": {
      "text/plain": [
       "11.06"
      ]
     },
     "execution_count": 3,
     "metadata": {},
     "output_type": "execute_result"
    }
   ],
   "source": [
    "#What is the average anxiety level of students in the dataset? - 11.06\n",
    "avg_anx_level = file['anxiety_level'].mean().round(2)\n",
    "avg_anx_level"
   ]
  },
  {
   "cell_type": "code",
   "execution_count": 4,
   "id": "930da4f8",
   "metadata": {
    "execution": {
     "iopub.execute_input": "2023-10-22T21:15:46.637429Z",
     "iopub.status.busy": "2023-10-22T21:15:46.636175Z",
     "iopub.status.idle": "2023-10-22T21:15:46.649697Z",
     "shell.execute_reply": "2023-10-22T21:15:46.648507Z"
    },
    "papermill": {
     "duration": 0.02382,
     "end_time": "2023-10-22T21:15:46.652195",
     "exception": false,
     "start_time": "2023-10-22T21:15:46.628375",
     "status": "completed"
    },
    "tags": []
   },
   "outputs": [
    {
     "data": {
      "text/plain": [
       "542"
      ]
     },
     "execution_count": 4,
     "metadata": {},
     "output_type": "execute_result"
    }
   ],
   "source": [
    "#How many students have reported a history of mental health issues? - 542 students\n",
    "mental_issue = file[file['mental_health_history'] == 1]\n",
    "mental_issue_count = mental_issue['mental_health_history'].count()\n",
    "mental_issue_count"
   ]
  },
  {
   "cell_type": "code",
   "execution_count": 5,
   "id": "cac69c77",
   "metadata": {
    "execution": {
     "iopub.execute_input": "2023-10-22T21:15:46.666578Z",
     "iopub.status.busy": "2023-10-22T21:15:46.666170Z",
     "iopub.status.idle": "2023-10-22T21:15:46.676076Z",
     "shell.execute_reply": "2023-10-22T21:15:46.675134Z"
    },
    "papermill": {
     "duration": 0.019556,
     "end_time": "2023-10-22T21:15:46.678080",
     "exception": false,
     "start_time": "2023-10-22T21:15:46.658524",
     "status": "completed"
    },
    "tags": []
   },
   "outputs": [
    {
     "data": {
      "text/plain": [
       "507"
      ]
     },
     "execution_count": 5,
     "metadata": {},
     "output_type": "execute_result"
    }
   ],
   "source": [
    "#How many students have a self-esteem level below the average? - 507\n",
    "avg_esteem_level = file['self_esteem'].mean().round(2)\n",
    "below_avg_esteem = file[file['self_esteem'] < 17.78]\n",
    "below_avg_esteem_count = below_avg_esteem['self_esteem'].count()\n",
    "below_avg_esteem_count"
   ]
  },
  {
   "cell_type": "code",
   "execution_count": 6,
   "id": "8947091b",
   "metadata": {
    "execution": {
     "iopub.execute_input": "2023-10-22T21:15:46.692703Z",
     "iopub.status.busy": "2023-10-22T21:15:46.692288Z",
     "iopub.status.idle": "2023-10-22T21:15:46.702117Z",
     "shell.execute_reply": "2023-10-22T21:15:46.701103Z"
    },
    "papermill": {
     "duration": 0.019903,
     "end_time": "2023-10-22T21:15:46.704322",
     "exception": false,
     "start_time": "2023-10-22T21:15:46.684419",
     "status": "completed"
    },
    "tags": []
   },
   "outputs": [
    {
     "data": {
      "text/plain": [
       "96.0"
      ]
     },
     "execution_count": 6,
     "metadata": {},
     "output_type": "execute_result"
    }
   ],
   "source": [
    "#What percentage of students have reported experiencing depression? - 96%\n",
    "dep = file[file['depression'] != 0]\n",
    "no_dep = file[file['depression'] == 0]\n",
    "dep_count = dep['depression'].count()\n",
    "no_dep_count = no_dep['depression'].count()\n",
    "perc_dep = (dep_count / 1100) * 100\n",
    "perc_dep"
   ]
  },
  {
   "cell_type": "code",
   "execution_count": 7,
   "id": "1e215f2e",
   "metadata": {
    "execution": {
     "iopub.execute_input": "2023-10-22T21:15:46.719330Z",
     "iopub.status.busy": "2023-10-22T21:15:46.718924Z",
     "iopub.status.idle": "2023-10-22T21:15:46.726895Z",
     "shell.execute_reply": "2023-10-22T21:15:46.725918Z"
    },
    "papermill": {
     "duration": 0.017901,
     "end_time": "2023-10-22T21:15:46.728850",
     "exception": false,
     "start_time": "2023-10-22T21:15:46.710949",
     "status": "completed"
    },
    "tags": []
   },
   "outputs": [
    {
     "data": {
      "text/plain": [
       "1068"
      ]
     },
     "execution_count": 7,
     "metadata": {},
     "output_type": "execute_result"
    }
   ],
   "source": [
    "#How many students experience headaches frequently? - 1068 students\n",
    "head_freq = file[file['headache'] != 0]\n",
    "head_freq_count = head_freq['headache'].count()\n",
    "head_freq_count"
   ]
  },
  {
   "cell_type": "code",
   "execution_count": 8,
   "id": "ce938c80",
   "metadata": {
    "execution": {
     "iopub.execute_input": "2023-10-22T21:15:46.743601Z",
     "iopub.status.busy": "2023-10-22T21:15:46.743196Z",
     "iopub.status.idle": "2023-10-22T21:15:46.750690Z",
     "shell.execute_reply": "2023-10-22T21:15:46.749654Z"
    },
    "papermill": {
     "duration": 0.017315,
     "end_time": "2023-10-22T21:15:46.752682",
     "exception": false,
     "start_time": "2023-10-22T21:15:46.735367",
     "status": "completed"
    },
    "tags": []
   },
   "outputs": [
    {
     "data": {
      "text/plain": [
       "2.18"
      ]
     },
     "execution_count": 8,
     "metadata": {},
     "output_type": "execute_result"
    }
   ],
   "source": [
    "#What is the average blood pressure reading among the students? - 2.18\n",
    "avg_blood_press = file['blood_pressure'].mean().round(2)\n",
    "avg_blood_press"
   ]
  },
  {
   "cell_type": "code",
   "execution_count": 9,
   "id": "d17be731",
   "metadata": {
    "execution": {
     "iopub.execute_input": "2023-10-22T21:15:46.767986Z",
     "iopub.status.busy": "2023-10-22T21:15:46.767614Z",
     "iopub.status.idle": "2023-10-22T21:15:46.774832Z",
     "shell.execute_reply": "2023-10-22T21:15:46.773977Z"
    },
    "papermill": {
     "duration": 0.017792,
     "end_time": "2023-10-22T21:15:46.777101",
     "exception": false,
     "start_time": "2023-10-22T21:15:46.759309",
     "status": "completed"
    },
    "tags": []
   },
   "outputs": [
    {
     "data": {
      "text/plain": [
       "550"
      ]
     },
     "execution_count": 9,
     "metadata": {},
     "output_type": "execute_result"
    }
   ],
   "source": [
    "#How many students rate their sleep quality as poor? - 550 (Assuming anything below 3 is poor)\n",
    "poor_sleep = file[file['sleep_quality'] < 3]\n",
    "poor_sleep_count = poor_sleep['sleep_quality'].count()\n",
    "poor_sleep_count"
   ]
  },
  {
   "cell_type": "code",
   "execution_count": 10,
   "id": "1cc1ab16",
   "metadata": {
    "execution": {
     "iopub.execute_input": "2023-10-22T21:15:46.792666Z",
     "iopub.status.busy": "2023-10-22T21:15:46.792276Z",
     "iopub.status.idle": "2023-10-22T21:15:46.799305Z",
     "shell.execute_reply": "2023-10-22T21:15:46.798482Z"
    },
    "papermill": {
     "duration": 0.017217,
     "end_time": "2023-10-22T21:15:46.801281",
     "exception": false,
     "start_time": "2023-10-22T21:15:46.784064",
     "status": "completed"
    },
    "tags": []
   },
   "outputs": [
    {
     "data": {
      "text/plain": [
       "274"
      ]
     },
     "execution_count": 10,
     "metadata": {},
     "output_type": "execute_result"
    }
   ],
   "source": [
    "#How many students live in conditions with high noise levels? - 274 (Assuming anything above 3 is high)\n",
    "high_noise = file[file['noise_level'] > 3]\n",
    "high_noise_count = high_noise['noise_level'].count()\n",
    "high_noise_count"
   ]
  },
  {
   "cell_type": "code",
   "execution_count": 11,
   "id": "7d413de7",
   "metadata": {
    "execution": {
     "iopub.execute_input": "2023-10-22T21:15:46.816982Z",
     "iopub.status.busy": "2023-10-22T21:15:46.816602Z",
     "iopub.status.idle": "2023-10-22T21:15:46.825038Z",
     "shell.execute_reply": "2023-10-22T21:15:46.823983Z"
    },
    "papermill": {
     "duration": 0.019083,
     "end_time": "2023-10-22T21:15:46.827317",
     "exception": false,
     "start_time": "2023-10-22T21:15:46.808234",
     "status": "completed"
    },
    "tags": []
   },
   "outputs": [
    {
     "data": {
      "text/plain": [
       "551"
      ]
     },
     "execution_count": 11,
     "metadata": {},
     "output_type": "execute_result"
    }
   ],
   "source": [
    "#What percentage of students feel unsafe in their living conditions? - 551 \n",
    "poor_living = file[file['living_conditions'] < 3]\n",
    "poor_living_count = poor_living['living_conditions'].count()\n",
    "poor_living_count"
   ]
  },
  {
   "cell_type": "code",
   "execution_count": 12,
   "id": "96800ed4",
   "metadata": {
    "execution": {
     "iopub.execute_input": "2023-10-22T21:15:46.842941Z",
     "iopub.status.busy": "2023-10-22T21:15:46.842564Z",
     "iopub.status.idle": "2023-10-22T21:15:46.850699Z",
     "shell.execute_reply": "2023-10-22T21:15:46.849734Z"
    },
    "papermill": {
     "duration": 0.018346,
     "end_time": "2023-10-22T21:15:46.852667",
     "exception": false,
     "start_time": "2023-10-22T21:15:46.834321",
     "status": "completed"
    },
    "tags": []
   },
   "outputs": [
    {
     "data": {
      "text/plain": [
       "548"
      ]
     },
     "execution_count": 12,
     "metadata": {},
     "output_type": "execute_result"
    }
   ],
   "source": [
    "#How many students have reported not having their basic needs met? - 548\n",
    "no_basic_met = file[file['basic_needs'] < 3]\n",
    "no_basic_count = no_basic_met['basic_needs'].count()\n",
    "no_basic_count"
   ]
  },
  {
   "cell_type": "code",
   "execution_count": 13,
   "id": "fddb65ce",
   "metadata": {
    "execution": {
     "iopub.execute_input": "2023-10-22T21:15:46.868791Z",
     "iopub.status.busy": "2023-10-22T21:15:46.868363Z",
     "iopub.status.idle": "2023-10-22T21:15:46.876840Z",
     "shell.execute_reply": "2023-10-22T21:15:46.875851Z"
    },
    "papermill": {
     "duration": 0.019039,
     "end_time": "2023-10-22T21:15:46.878802",
     "exception": false,
     "start_time": "2023-10-22T21:15:46.859763",
     "status": "completed"
    },
    "tags": []
   },
   "outputs": [
    {
     "data": {
      "text/plain": [
       "561"
      ]
     },
     "execution_count": 13,
     "metadata": {},
     "output_type": "execute_result"
    }
   ],
   "source": [
    "#How many students rate their academic performance as below average? - 561\n",
    "aca_below = file[file['academic_performance'] < 3]\n",
    "aca_below_count = aca_below['academic_performance'].count()\n",
    "aca_below_count"
   ]
  },
  {
   "cell_type": "code",
   "execution_count": 14,
   "id": "79cd23ba",
   "metadata": {
    "execution": {
     "iopub.execute_input": "2023-10-22T21:15:46.894945Z",
     "iopub.status.busy": "2023-10-22T21:15:46.894549Z",
     "iopub.status.idle": "2023-10-22T21:15:46.901718Z",
     "shell.execute_reply": "2023-10-22T21:15:46.900736Z"
    },
    "papermill": {
     "duration": 0.017735,
     "end_time": "2023-10-22T21:15:46.903851",
     "exception": false,
     "start_time": "2023-10-22T21:15:46.886116",
     "status": "completed"
    },
    "tags": []
   },
   "outputs": [
    {
     "data": {
      "text/plain": [
       "2.62"
      ]
     },
     "execution_count": 14,
     "metadata": {},
     "output_type": "execute_result"
    }
   ],
   "source": [
    "#What is the average study load reported by students? - 2.62\n",
    "study_load_avg = file['study_load'].mean().round(2)\n",
    "study_load_avg"
   ]
  },
  {
   "cell_type": "code",
   "execution_count": 15,
   "id": "9ae9b3c1",
   "metadata": {
    "execution": {
     "iopub.execute_input": "2023-10-22T21:15:46.919986Z",
     "iopub.status.busy": "2023-10-22T21:15:46.919603Z",
     "iopub.status.idle": "2023-10-22T21:15:46.927764Z",
     "shell.execute_reply": "2023-10-22T21:15:46.926764Z"
    },
    "papermill": {
     "duration": 0.01887,
     "end_time": "2023-10-22T21:15:46.930002",
     "exception": false,
     "start_time": "2023-10-22T21:15:46.911132",
     "status": "completed"
    },
    "tags": []
   },
   "outputs": [
    {
     "data": {
      "text/plain": [
       "371"
      ]
     },
     "execution_count": 15,
     "metadata": {},
     "output_type": "execute_result"
    }
   ],
   "source": [
    "#How many students have concerns about their future careers? - 371 students\n",
    "future_concern = file[file['future_career_concerns'] > 3]\n",
    "future_concern_count = future_concern['future_career_concerns'].count()\n",
    "future_concern_count"
   ]
  },
  {
   "cell_type": "code",
   "execution_count": 16,
   "id": "ba5bb178",
   "metadata": {
    "execution": {
     "iopub.execute_input": "2023-10-22T21:15:46.946341Z",
     "iopub.status.busy": "2023-10-22T21:15:46.945965Z",
     "iopub.status.idle": "2023-10-22T21:15:46.954367Z",
     "shell.execute_reply": "2023-10-22T21:15:46.953280Z"
    },
    "papermill": {
     "duration": 0.01912,
     "end_time": "2023-10-22T21:15:46.956506",
     "exception": false,
     "start_time": "2023-10-22T21:15:46.937386",
     "status": "completed"
    },
    "tags": []
   },
   "outputs": [
    {
     "data": {
      "text/plain": [
       "458"
      ]
     },
     "execution_count": 16,
     "metadata": {},
     "output_type": "execute_result"
    }
   ],
   "source": [
    "#How many students feel they have strong social support? - 458 students \n",
    "social_supp = file[file['social_support'] == 3]\n",
    "social_count = social_supp['social_support'].count()\n",
    "social_count"
   ]
  },
  {
   "cell_type": "code",
   "execution_count": 17,
   "id": "1504fca2",
   "metadata": {
    "execution": {
     "iopub.execute_input": "2023-10-22T21:15:46.973154Z",
     "iopub.status.busy": "2023-10-22T21:15:46.972791Z",
     "iopub.status.idle": "2023-10-22T21:15:46.981771Z",
     "shell.execute_reply": "2023-10-22T21:15:46.980510Z"
    },
    "papermill": {
     "duration": 0.020013,
     "end_time": "2023-10-22T21:15:46.983942",
     "exception": false,
     "start_time": "2023-10-22T21:15:46.963929",
     "status": "completed"
    },
    "tags": []
   },
   "outputs": [
    {
     "data": {
      "text/plain": [
       "96.45"
      ]
     },
     "execution_count": 17,
     "metadata": {},
     "output_type": "execute_result"
    }
   ],
   "source": [
    "#What percentage of students have experienced bullying? - 96.45%\n",
    "bully = file[file['bullying'] != 0]\n",
    "bully_count = bully['bullying'].count()\n",
    "bully_count_perc = ((bully_count / 1100) * 100).round(2)\n",
    "bully_count_perc"
   ]
  },
  {
   "cell_type": "code",
   "execution_count": 18,
   "id": "95e8a8f0",
   "metadata": {
    "execution": {
     "iopub.execute_input": "2023-10-22T21:15:47.002350Z",
     "iopub.status.busy": "2023-10-22T21:15:47.001977Z",
     "iopub.status.idle": "2023-10-22T21:15:47.011256Z",
     "shell.execute_reply": "2023-10-22T21:15:47.010219Z"
    },
    "papermill": {
     "duration": 0.021504,
     "end_time": "2023-10-22T21:15:47.013588",
     "exception": false,
     "start_time": "2023-10-22T21:15:46.992084",
     "status": "completed"
    },
    "tags": []
   },
   "outputs": [
    {
     "data": {
      "text/plain": [
       "1066"
      ]
     },
     "execution_count": 18,
     "metadata": {},
     "output_type": "execute_result"
    }
   ],
   "source": [
    "#How many students participate in extracurricular activities? - 1066 (Assuming 1 and higher is participating in an activity)\n",
    "extra_act = file[file['extracurricular_activities'] > 0]\n",
    "extra_act_count = extra_act['extracurricular_activities'].count()\n",
    "extra_act_count"
   ]
  },
  {
   "cell_type": "code",
   "execution_count": 19,
   "id": "1476bdda",
   "metadata": {
    "execution": {
     "iopub.execute_input": "2023-10-22T21:15:47.030691Z",
     "iopub.status.busy": "2023-10-22T21:15:47.030303Z",
     "iopub.status.idle": "2023-10-22T21:15:47.385801Z",
     "shell.execute_reply": "2023-10-22T21:15:47.384525Z"
    },
    "papermill": {
     "duration": 0.366841,
     "end_time": "2023-10-22T21:15:47.388153",
     "exception": false,
     "start_time": "2023-10-22T21:15:47.021312",
     "status": "completed"
    },
    "tags": []
   },
   "outputs": [
    {
     "data": {
      "image/png": "[encoded data removed]",
      "text/plain": [
       "<Figure size 640x480 with 1 Axes>"
      ]
     },
     "metadata": {},
     "output_type": "display_data"
    }
   ],
   "source": [
    "#Is there a correlation between anxiety level and academic performance? - Higher anxiety levels tends to result in lower academic performance\n",
    "anx_aca_corr = file[['anxiety_level', 'academic_performance']]\n",
    "\n",
    "import matplotlib.pyplot as plt\n",
    "\n",
    "# Create a scatter plot\n",
    "plt.scatter(anx_aca_corr['anxiety_level'], anx_aca_corr['academic_performance'], marker='o', color='b', label='Data Points')\n",
    "\n",
    "# Add labels and title\n",
    "plt.xlabel('Anxiety Level')\n",
    "plt.ylabel('Academic Performance')\n",
    "plt.title('Anxiety Level vs. Academic Performance')\n",
    "\n",
    "# Add a trendline (optional)\n",
    "z = np.polyfit(anx_aca_corr['anxiety_level'], anx_aca_corr['academic_performance'], 1)\n",
    "p = np.poly1d(z)\n",
    "plt.plot(anx_aca_corr['anxiety_level'], p(anx_aca_corr['anxiety_level']), \"r--\", label='Trendline')\n",
    "\n",
    "# Show the legend\n",
    "plt.legend()\n",
    "\n",
    "# Show the plot\n",
    "plt.show()"
   ]
  },
  {
   "cell_type": "code",
   "execution_count": 20,
   "id": "68a05ab4",
   "metadata": {
    "execution": {
     "iopub.execute_input": "2023-10-22T21:15:47.406625Z",
     "iopub.status.busy": "2023-10-22T21:15:47.406212Z",
     "iopub.status.idle": "2023-10-22T21:15:48.760648Z",
     "shell.execute_reply": "2023-10-22T21:15:48.759473Z"
    },
    "papermill": {
     "duration": 1.36685,
     "end_time": "2023-10-22T21:15:48.763518",
     "exception": false,
     "start_time": "2023-10-22T21:15:47.396668",
     "status": "completed"
    },
    "tags": []
   },
   "outputs": [
    {
     "data": {
      "image/png": "[encoded data removed]",
      "text/plain": [
       "<Figure size 640x480 with 1 Axes>"
      ]
     },
     "metadata": {},
     "output_type": "display_data"
    }
   ],
   "source": [
    "#Do students with poor sleep quality also report higher levels of depression? - The lower the depression level the higher the sleep quality\n",
    "import scipy.stats\n",
    "\n",
    "sleep_dep_levels = file[['sleep_quality', 'depression']]\n",
    "plt.scatter(sleep_dep_levels['sleep_quality'], sleep_dep_levels['depression'], marker='o', color='b', label='Data Points')\n",
    "\n",
    "# Add labels and title\n",
    "plt.xlabel('Sleep Quality')\n",
    "plt.ylabel('Depression Level')\n",
    "plt.title('Sleep Quality vs. Depression Level')\n",
    "\n",
    "# Add a regression line\n",
    "z = np.polyfit(sleep_dep_levels['sleep_quality'], sleep_dep_levels['depression'], 1)\n",
    "p = np.poly1d(z)\n",
    "plt.plot(sleep_dep_levels['sleep_quality'], p(sleep_dep_levels['sleep_quality']), \"r--\", label='Trendline')\n",
    "\n",
    "# Calculate the Pearson correlation coefficient\n",
    "correlation_coefficient, _ = scipy.stats.pearsonr(sleep_dep_levels['sleep_quality'], sleep_dep_levels['depression'])\n",
    "plt.text(4, 35, f'Correlation: {correlation_coefficient:.2f}', fontsize=12, color='r')\n",
    "\n",
    "# Show the legend\n",
    "plt.legend()\n",
    "\n",
    "# Show the plot\n",
    "plt.show()"
   ]
  },
  {
   "cell_type": "code",
   "execution_count": 21,
   "id": "aa7102c9",
   "metadata": {
    "execution": {
     "iopub.execute_input": "2023-10-22T21:15:48.784235Z",
     "iopub.status.busy": "2023-10-22T21:15:48.783887Z",
     "iopub.status.idle": "2023-10-22T21:15:49.238255Z",
     "shell.execute_reply": "2023-10-22T21:15:49.237018Z"
    },
    "papermill": {
     "duration": 0.46899,
     "end_time": "2023-10-22T21:15:49.241766",
     "exception": false,
     "start_time": "2023-10-22T21:15:48.772776",
     "status": "completed"
    },
    "tags": []
   },
   "outputs": [
    {
     "data": {
      "image/png": "[encoded data removed]",
      "text/plain": [
       "<Figure size 800x600 with 1 Axes>"
      ]
     },
     "metadata": {},
     "output_type": "display_data"
    }
   ],
   "source": [
    "#Are students who experience bullying more likely to have a history of mental health issues? - So with this chart you can see people with no mental health issues (0) had over half the count with a level of 1 bullying. Where as people with meantal health issues had majoirty of bullying levels 4 and 5. \n",
    "bully_mental = file[['mental_health_history', 'bullying']]\n",
    "cross_table = pd.crosstab(bully_mental['mental_health_history'], bully_mental['bullying'])\n",
    "\n",
    "# Create a grouped bar chart\n",
    "cross_table.plot(kind='bar', stacked=True, figsize=(8, 6))\n",
    "\n",
    "# Add labels and title\n",
    "plt.xlabel('Mental Health History')\n",
    "plt.ylabel('Count')\n",
    "plt.title('Correlation Between Mental Health History and Bullying')\n",
    "\n",
    "# Show the plot\n",
    "plt.legend(title='Bullying', loc='upper right')\n",
    "plt.show()"
   ]
  },
  {
   "cell_type": "code",
   "execution_count": null,
   "id": "6c18ed86",
   "metadata": {
    "papermill": {
     "duration": 0.009215,
     "end_time": "2023-10-22T21:15:49.261388",
     "exception": false,
     "start_time": "2023-10-22T21:15:49.252173",
     "status": "completed"
    },
    "tags": []
   },
   "outputs": [],
   "source": []
  }
 ],
 "metadata": {
  "kernelspec": {
   "display_name": "Python 3",
   "language": "python",
   "name": "python3"
  },
  "language_info": {
   "codemirror_mode": {
    "name": "ipython",
    "version": 3
   },
   "file_extension": ".py",
   "mimetype": "text/x-python",
   "name": "python",
   "nbconvert_exporter": "python",
   "pygments_lexer": "ipython3",
   "version": "3.10.12"
  },
  "papermill": {
   "default_parameters": {},
   "duration": 8.149824,
   "end_time": "2023-10-22T21:15:49.791609",
   "environment_variables": {},
   "exception": null,
   "input_path": "__notebook__.ipynb",
   "output_path": "__notebook__.ipynb",
   "parameters": {},
   "start_time": "2023-10-22T21:15:41.641785",
   "version": "2.4.0"
  }
 },
 "nbformat": 4,
 "nbformat_minor": 5
}
